#Import dependencies
import os
import json
import spotipy
import numpy as np
import pandas as pd
import spotipy.util as util
from spotipy.oauth2 import SpotifyOAuth
from scipy.stats import pearsonr, linregress
import matplotlib.pyplot as plt
from json.decoder import JSONDecodeError







